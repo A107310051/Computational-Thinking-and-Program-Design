{
  "nbformat": 4,
  "nbformat_minor": 0,
  "metadata": {
    "colab": {
      "name": "陳意捷_Week14_課後練習.ipynb",
      "provenance": [],
      "authorship_tag": "ABX9TyPqHZ5rJOTNWS2vGl94bKBD",
      "include_colab_link": true
    },
    "kernelspec": {
      "name": "python3",
      "display_name": "Python 3"
    },
    "language_info": {
      "name": "python"
    }
  },
  "cells": [
    {
      "cell_type": "markdown",
      "metadata": {
        "id": "view-in-github",
        "colab_type": "text"
      },
      "source": [
        "<a href=\"https://colab.research.google.com/github/A107310051/Computational-Thinking-and-Program-Design/blob/main/%E9%99%B3%E6%84%8F%E6%8D%B7_Week14_%E8%AA%B2%E5%BE%8C%E7%B7%B4%E7%BF%92.ipynb\" target=\"_parent\"><img src=\"https://colab.research.google.com/assets/colab-badge.svg\" alt=\"Open In Colab\"/></a>"
      ]
    },
    {
      "cell_type": "markdown",
      "metadata": {
        "id": "5B7OQmro6d1o"
      },
      "source": [
        "應⽤練習1：電影評價\n",
        "請輸入電影名稱與評等，分別⽤單向、雙向與多向選擇來寫程式，幫助⼈們決定是否去看電影。\n"
      ]
    },
    {
      "cell_type": "code",
      "metadata": {
        "colab": {
          "base_uri": "https://localhost:8080/"
        },
        "id": "z2usOZL66DWR",
        "outputId": "d215d9fe-3cbf-4613-da88-f64d39597ca3"
      },
      "source": [
        "movie_title = input('請輸入電影的名稱:')\n",
        "movie_rating = float(input('請輸入電影的評等:'))\n",
        "\n",
        "## 單向選擇\n",
        "if movie_rating > 7:\n",
        "  print(f\"{movie_title}的評分為{movie_rating} 分值得去看！\")\n",
        "# 雙向選擇\n",
        "if movie_rating > 7:\n",
        "  print(f\"{movie_title}的評分為{movie_rating}分值得去看！\")\n",
        "else:\n",
        "  print(f\"{movie_title}的評分為{movie_rating}分不值得去看，浪費時間！\")\n",
        "## 多向選擇\n",
        "if movie_rating > 7:\n",
        "  print(f\"去電影院看{movie_title}\")\n",
        "elif movie_rating > 6:\n",
        "  print(f\"在家裡看{movie_title}\")\n",
        "else:\n",
        "  print(f\"不要看{movie_title}\")"
      ],
      "execution_count": 3,
      "outputs": [
        {
          "output_type": "stream",
          "text": [
            "請輸入電影的名稱:ttt\n",
            "請輸入電影的評等:50\n",
            "ttt的評分為50.0 分值得去看！\n",
            "ttt的評分為50.0分值得去看！\n",
            "去電影院看ttt\n"
          ],
          "name": "stdout"
        }
      ]
    },
    {
      "cell_type": "markdown",
      "metadata": {
        "id": "TV6aAZ3I7X3a"
      },
      "source": [
        "應⽤練習 2：依照⾝份證字號，排隊領⼝罩\n",
        "請輸入⾝份證字號的最號⼀碼，若奇數則星期⼀三五領⼝罩，若偶數則星期⼆四六領⼝罩。\n",
        "請⽤單向、雙向選擇撰寫程式。"
      ]
    },
    {
      "cell_type": "code",
      "metadata": {
        "colab": {
          "base_uri": "https://localhost:8080/"
        },
        "id": "gJ-szXum7dc6",
        "outputId": "70d09ca5-17a7-4623-e6f5-aaf914aa9659"
      },
      "source": [
        "user_int = int(input(\"請輸入身份證的最後一個正整數：\"))\n",
        "## 單向選擇\n",
        "if user_int % 2 == 0:\n",
        "  ans = \"偶數，請星期二四六日領口罩\"\n",
        "if user_int % 2 == 1:\n",
        "  ans = \"奇數，請星期一三五日領口罩\"\n",
        "print(ans)\n",
        "## 雙向選擇\n",
        "user_int = input(\"請輸入一個正整數：\")\n",
        "user_int = int(user_int)\n",
        "if user_int % 2 == 0:\n",
        "  ans = \"偶數，請星期二四六日領口罩\"\n",
        "else:\n",
        "  ans = \"奇數，請星期一三五日領口罩\"\n",
        "print(ans)"
      ],
      "execution_count": 4,
      "outputs": [
        {
          "output_type": "stream",
          "text": [
            "請輸入身份證的最後一個正整數：6\n",
            "偶數，請星期二四六日領口罩\n",
            "請輸入一個正整數：5\n",
            "奇數，請星期一三五日領口罩\n"
          ],
          "name": "stdout"
        }
      ]
    },
    {
      "cell_type": "markdown",
      "metadata": {
        "id": "AjUOBW-R90CC"
      },
      "source": [
        "應⽤練習3: 剪⼑⽯頭布\n",
        "⽬標: 設計和電腦對戰的遊戲"
      ]
    },
    {
      "cell_type": "code",
      "metadata": {
        "colab": {
          "base_uri": "https://localhost:8080/"
        },
        "id": "ZBhKEZY-94VH",
        "outputId": "d89915f4-2f82-4bf2-8a9a-d9cb6dbb5a0e"
      },
      "source": [
        "my = int(input(\"請出拳 [0] 剪刀 [1] 石頭 [2] 布\"))\n",
        "print(\"我出拳為\", my)\n",
        "import random \n",
        "computer = random.randint(0, 2)\n",
        "print(\"電腦出拳為\", computer)\n",
        "\n",
        "if my == 0:\n",
        "  if computer == 0:\n",
        "    print('平手')\n",
        "  elif computer == 1:\n",
        "    print('電腦獲勝')\n",
        "  else:\n",
        "    print('玩家獲勝')\n",
        "elif my == 1:\n",
        "  if computer == 0:\n",
        "    print('玩家獲勝')\n",
        "  elif computer == 1:\n",
        "    print('平手')\n",
        "  else:\n",
        "    print('電腦獲勝')\n",
        "else:\n",
        "  if computer == 1:\n",
        "    print('玩家獲勝')\n",
        "  elif computer == 2:\n",
        "    print('平手')\n",
        "  else:\n",
        "    print('電腦獲勝')"
      ],
      "execution_count": 17,
      "outputs": [
        {
          "output_type": "stream",
          "text": [
            "請出拳 [0] 剪刀 [1] 石頭 [2] 布2\n",
            "我出拳為 2\n",
            "電腦出拳為 1\n",
            "玩家獲勝\n"
          ],
          "name": "stdout"
        }
      ]
    },
    {
      "cell_type": "markdown",
      "metadata": {
        "id": "V1em_zRtACqj"
      },
      "source": [
        "加分題: 棒打老虎雞吃蟲"
      ]
    },
    {
      "cell_type": "code",
      "metadata": {
        "colab": {
          "base_uri": "https://localhost:8080/"
        },
        "id": "s8lEZLW7AMQQ",
        "outputId": "25c46cb1-c3af-4427-e35e-dd7298991679"
      },
      "source": [
        "my_choice = int(input(\"請出拳 [0] 蟲 [1] 雞 [2] 老虎 [3] 棒⼦\"))\n",
        "print(\"你出的拳:\", my_choice)\n",
        "import random\n",
        "com_choice = random.randint(0, 3)\n",
        "print(\"電腦出拳為\", com_choice)\n",
        "\n",
        "if my_choice == (com_choice + 1) % 4:\n",
        "  print(\"我贏了\")\n",
        "elif com_choice == (my_choice + 1) % 4:\n",
        "  print(\"電腦贏了\")\n",
        "else:\n",
        "  print(\"平⼿\")"
      ],
      "execution_count": 13,
      "outputs": [
        {
          "output_type": "stream",
          "text": [
            "請出拳 [0] 蟲 [1] 雞 [2] 老虎 [3] 棒⼦2\n",
            "你出的拳: 2\n",
            "電腦出拳為 1\n",
            "我贏了\n"
          ],
          "name": "stdout"
        }
      ]
    }
  ]
}