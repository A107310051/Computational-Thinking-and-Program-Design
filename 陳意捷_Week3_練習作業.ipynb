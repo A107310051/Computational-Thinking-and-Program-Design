{
  "nbformat": 4,
  "nbformat_minor": 0,
  "metadata": {
    "colab": {
      "name": "陳意捷-Week3-練習作業.ipynb",
      "provenance": [],
      "collapsed_sections": [],
      "authorship_tag": "ABX9TyNXGjp5IS8/r/pnIReCZJcC",
      "include_colab_link": true
    },
    "kernelspec": {
      "name": "python3",
      "display_name": "Python 3"
    }
  },
  "cells": [
    {
      "cell_type": "markdown",
      "metadata": {
        "id": "view-in-github",
        "colab_type": "text"
      },
      "source": [
        "<a href=\"https://colab.research.google.com/github/A107310051/Computational-Thinking-and-Program-Design/blob/main/%E9%99%B3%E6%84%8F%E6%8D%B7_Week3_%E7%B7%B4%E7%BF%92%E4%BD%9C%E6%A5%AD.ipynb\" target=\"_parent\"><img src=\"https://colab.research.google.com/assets/colab-badge.svg\" alt=\"Open In Colab\"/></a>"
      ]
    },
    {
      "cell_type": "markdown",
      "metadata": {
        "id": "zjKLaytgNs_7"
      },
      "source": [
        "# 隨堂練習"
      ]
    },
    {
      "cell_type": "markdown",
      "metadata": {
        "id": "_PEYKR21SKxq"
      },
      "source": [
        "**1.認識電腦**\r\n",
        "\r\n",
        "1-1 電腦改變⽣活和⼯作的⽅式\r\n",
        "\r\n",
        "例子：導航、通訊系統、線上訂票。\r\n",
        "\r\n",
        "1-2 學科精神-⽤電腦解決問題\r\n",
        "\r\n",
        "認識問題、將解決問題的演算法程式寫出來、用電腦解決問題。\r\n",
        "\r\n",
        "1-3 電腦的組成\r\n",
        "\r\n",
        "分為硬體和軟體\r\n",
        "\r\n",
        "硬體：\r\n",
        "\r\n",
        "一.硬體的四個基本概念：輸入單元、處理單元、記憶單元、輸出單元\r\n",
        "\r\n",
        "二.計算、儲存與連接三種功能\r\n",
        "\r\n",
        "軟體：\r\n",
        "分為系統軟體和應用軟體\r\n",
        "\r\n",
        "1-4 電腦的⼯作⽅式\r\n",
        "\r\n",
        "電腦軟硬體都是以「輸入-處理-輸出」為架構。\r\n",
        "\r\n",
        "**2.程式語言**\r\n",
        "\r\n",
        "電腦與人溝通的橋樑\r\n",
        "\r\n",
        "0與1就是電腦唯⼀會說的話。電腦只需要利⽤零和⼀這兩種數字，就可以處理很多的問題。\r\n",
        "\r\n",
        "⼈和電腦靠程式語⾔溝通。\r\n",
        "\r\n",
        "2-2 程式設計\r\n",
        "\r\n",
        "程式設計就是把你希望電腦做的事情，⽤程式語⾔寫出來，這些指令就叫「程式」(program)或「程式碼」(code)。\r\n",
        "\r\n",
        "**3.運算思維**\r\n",
        "\r\n",
        "3-1 什麼是運算思維\r\n",
        "\r\n",
        "運算思維是⼀個思考的程序。它的⽬的是闡明問題，並呈現其解決⽅案，讓「運算器」(機器與⼈) 能夠有效率地執⾏。\r\n",
        "\r\n",
        "3-2. 運算思維的四個基⽯\r\n",
        "\r\n",
        "問題拆解、模式辨識、抽象化、演算法\r\n",
        "\r\n",
        "**4.⽤電腦解決問題**\r\n",
        "\r\n",
        "4-1 ⽤電腦解決問題的四個階段\r\n",
        "\r\n",
        "階段⼀:Analysis-運算思維。\r\n",
        "\r\n",
        "階段⼆:Design-程式設計。\r\n",
        "\r\n",
        "階段三:Coding-撰寫程式。\r\n",
        "\r\n",
        "階段四:Testing-測試與除錯。\r\n",
        "\r\n",
        "4-2 觀念說明\r\n",
        "\r\n",
        "⽤你的專業知識與普通常識，把⼀個（商業）問題定義清楚，找到真正的問題點，並確定這是⼀個具有商業價值的問題; 並且找出值得企業花時間與⾦錢（資源）解決問題的⽅法。\r\n",
        "\r\n",
        "4-3 四個步驟說明\r\n",
        "\r\n",
        "Step1: 運算思維 - Problem Analysis\r\n",
        "\r\n",
        "(1)瞭解問題：Clearly Understand the Problem\r\n",
        "\r\n",
        "(2)如何解決問題：Know what Constitutes a Solution\r\n",
        "\r\n",
        "Step2: Program Design 程式設計\r\n",
        "\r\n",
        "\r\n",
        "\r\n"
      ]
    },
    {
      "cell_type": "markdown",
      "metadata": {
        "id": "fdWPCh66epd8"
      },
      "source": [
        "# 課後練習"
      ]
    },
    {
      "cell_type": "markdown",
      "metadata": {
        "id": "tPweCv8CevfL"
      },
      "source": [
        "**從一則新聞報導，提出你對新聞系（OO系）學生為什麼要學「運算思維與程式設計」的見解。（告訴我新聞連結，以及你的觀點即可。）**"
      ]
    },
    {
      "cell_type": "markdown",
      "metadata": {
        "id": "yVSMG_zNexUL"
      },
      "source": [
        "新聞網址: https://udn.com/news/story/6885/4699077\r\n",
        "\r\n",
        "新聞中提到美國、澳洲、英國都已經在推動程式設計教育，並且最早從5歲就開始接觸課程，以這樣看來台灣對於程式設計教育的概念尚未普及，最近這幾年才認真提倡程式設計的課程普及。以我是一個社會心理學系的學生來說，在高中時就曾接觸過程式設計相關的課程，但那時並沒有很瞭解為何要學習這項專業科目，直到大學更深入學習程式設計後，才知道程式設計現在已經普及化，擁有這項技能對於未來找工作會更有利，並且視為一項常識。"
      ]
    }
  ]
}