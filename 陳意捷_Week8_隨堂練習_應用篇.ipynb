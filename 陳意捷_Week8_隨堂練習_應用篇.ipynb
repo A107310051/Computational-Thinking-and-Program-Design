{
  "nbformat": 4,
  "nbformat_minor": 0,
  "metadata": {
    "colab": {
      "name": "陳意捷-Week8-隨堂練習-應用篇.ipynb",
      "provenance": [],
      "authorship_tag": "ABX9TyPNdNXHz/7bvF/D2LFbPtwL",
      "include_colab_link": true
    },
    "kernelspec": {
      "name": "python3",
      "display_name": "Python 3"
    },
    "language_info": {
      "name": "python"
    }
  },
  "cells": [
    {
      "cell_type": "markdown",
      "metadata": {
        "id": "view-in-github",
        "colab_type": "text"
      },
      "source": [
        "<a href=\"https://colab.research.google.com/github/A107310051/Computational-Thinking-and-Program-Design/blob/main/%E9%99%B3%E6%84%8F%E6%8D%B7_Week8_%E9%9A%A8%E5%A0%82%E7%B7%B4%E7%BF%92_%E6%87%89%E7%94%A8%E7%AF%87.ipynb\" target=\"_parent\"><img src=\"https://colab.research.google.com/assets/colab-badge.svg\" alt=\"Open In Colab\"/></a>"
      ]
    },
    {
      "cell_type": "code",
      "metadata": {
        "colab": {
          "base_uri": "https://localhost:8080/"
        },
        "id": "wDlz3ptZb-iT",
        "outputId": "e82731c7-a249-48c2-c50c-eaf2ab08928a"
      },
      "source": [
        "## Input\n",
        "a = 13\n",
        "b = 11\n",
        "## Process\n",
        "t = a\n",
        "a = b\n",
        "b = t\n",
        "## Output\n",
        "print(\"a = \", a, \"b = \", b)"
      ],
      "execution_count": 1,
      "outputs": [
        {
          "output_type": "stream",
          "text": [
            "a =  11 b =  13\n"
          ],
          "name": "stdout"
        }
      ]
    },
    {
      "cell_type": "code",
      "metadata": {
        "colab": {
          "base_uri": "https://localhost:8080/"
        },
        "id": "mJyX_oZyeO-r",
        "outputId": "27242848-7852-4457-c48a-51768c754de4"
      },
      "source": [
        "## Input\n",
        "a = int(input(\"Enter a number\"))\n",
        "b = int(input(\"Enter a number\"))\n",
        "c = int(input(\"Enter a number\"))\n",
        "d = int(input(\"Enter a number\"))\n",
        "e = int(input(\"Enter a number\"))\n",
        "f = int(input(\"Enter a number\"))\n",
        "## Process + Output\n",
        "a = a//3 ; b = b + a ; f = f + a\n",
        "print(f\"a = {a}; b = {b}; c = {c}; d = {d}; e = {e}; f = {f}\")\n",
        "b = b//3 ; a = a + b ; c = c + b\n",
        "print(f\"a = {a}; b = {b}; c = {c}; d = {d}; e = {e}; f = {f}\")\n",
        "c = c//3 ; b = b + c ; d = d + c\n",
        "print(f\"a = {a}; b = {b}; c = {c}; d = {d}; e = {e}; f = {f}\")\n",
        "d = d//3 ; c = c + d ; e = e + d\n",
        "print(f\"a = {a}; b = {b}; c = {c}; d = {d}; e = {e}; f = {f}\")\n",
        "e = e//3 ; d = d + e ; f = f + e\n",
        "print(f\"a = {a}; b = {b}; c = {c}; d = {d}; e = {e}; f = {f}\")\n",
        "f = f//3 ; e = e + f ; a = a + f\n",
        "print(f\"a = {a}; b = {b}; c = {c}; d = {d}; e = {e}; f = {f}\")"
      ],
      "execution_count": 5,
      "outputs": [
        {
          "output_type": "stream",
          "text": [
            "Enter a number1\n",
            "Enter a number2\n",
            "Enter a number3\n",
            "Enter a number4\n",
            "Enter a number5\n",
            "Enter a number6\n",
            "a = 0; b = 2; c = 3; d = 4; e = 5; f = 6\n",
            "a = 0; b = 0; c = 3; d = 4; e = 5; f = 6\n",
            "a = 0; b = 1; c = 1; d = 5; e = 5; f = 6\n",
            "a = 0; b = 1; c = 2; d = 1; e = 6; f = 6\n",
            "a = 0; b = 1; c = 2; d = 3; e = 2; f = 8\n",
            "a = 2; b = 1; c = 2; d = 3; e = 4; f = 2\n"
          ],
          "name": "stdout"
        }
      ]
    },
    {
      "cell_type": "code",
      "metadata": {
        "colab": {
          "base_uri": "https://localhost:8080/"
        },
        "id": "J4FysJ-VmEFm",
        "outputId": "a823a6f8-67e5-43ec-f136-32ca25f4b7bc"
      },
      "source": [
        "## Total = P1*Q1 + P2*Q2 + P3*Q3\n",
        "## Input Data\n",
        "cloth = int(input('請輸入上衣數量？')) \n",
        "trousers = int(input('請輸入褲子數量？'))\n",
        "vest = int(input('請輸入背心數量？'))\n",
        "## Process\n",
        "total = cloth*300 + trousers*350 + vest*400\n",
        "## Output\n",
        "print('訂購服裝的總金額為', total)"
      ],
      "execution_count": 6,
      "outputs": [
        {
          "output_type": "stream",
          "text": [
            "請輸入上衣數量？10\n",
            "請輸入褲子數量？8\n",
            "請輸入背心數量？5\n",
            "訂購服裝的總金額為 7800\n"
          ],
          "name": "stdout"
        }
      ]
    },
    {
      "cell_type": "code",
      "metadata": {
        "colab": {
          "base_uri": "https://localhost:8080/"
        },
        "id": "6LbedW7KmWr1",
        "outputId": "a336f8f5-0b6f-483b-9c6d-aace44ba0ab6"
      },
      "source": [
        "## 求三數總和與平均\n",
        "## Input\n",
        "x,y,z = eval(input(\"Enter your score\"))\n",
        "\n",
        "## Process\n",
        "Sum = x + y + z\n",
        "Average = Sum /3\n",
        "\n",
        "## Output\n",
        "print(f\"Total score is {Sum} and average score is {Average}\")"
      ],
      "execution_count": 7,
      "outputs": [
        {
          "output_type": "stream",
          "text": [
            "Enter your score88,77,66\n",
            "Total score is 231 and average score is 77.0\n"
          ],
          "name": "stdout"
        }
      ]
    }
  ]
}