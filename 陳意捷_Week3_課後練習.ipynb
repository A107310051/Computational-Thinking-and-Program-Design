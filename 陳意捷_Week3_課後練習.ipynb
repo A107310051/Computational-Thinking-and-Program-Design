{
  "nbformat": 4,
  "nbformat_minor": 0,
  "metadata": {
    "colab": {
      "name": "陳意捷-Week3-課後練習.ipynb",
      "provenance": [],
      "authorship_tag": "ABX9TyOxlhRtsuasFLDcOkmQc3UI",
      "include_colab_link": true
    },
    "kernelspec": {
      "name": "python3",
      "display_name": "Python 3"
    }
  },
  "cells": [
    {
      "cell_type": "markdown",
      "metadata": {
        "id": "view-in-github",
        "colab_type": "text"
      },
      "source": [
        "<a href=\"https://colab.research.google.com/github/A107310051/Computational-Thinking-and-Program-Design/blob/main/%E9%99%B3%E6%84%8F%E6%8D%B7_Week3_%E8%AA%B2%E5%BE%8C%E7%B7%B4%E7%BF%92.ipynb\" target=\"_parent\"><img src=\"https://colab.research.google.com/assets/colab-badge.svg\" alt=\"Open In Colab\"/></a>"
      ]
    },
    {
      "cell_type": "markdown",
      "metadata": {
        "id": "8kUOW_30OWQ4"
      },
      "source": [
        "# 課後練習"
      ]
    },
    {
      "cell_type": "markdown",
      "metadata": {
        "id": "5hLKE1zNOcag"
      },
      "source": [
        "**從一則新聞報導，提出你對新聞系（OO系）學生為什麼要學「運算思維與程式設計」的見解。（告訴我新聞連結，以及你的觀點即可。）**"
      ]
    },
    {
      "cell_type": "markdown",
      "metadata": {
        "id": "gxpJksUUOsC4"
      },
      "source": [
        "新聞網址:\r\n",
        "https://udn.com/news/story/6885/4699077"
      ]
    },
    {
      "cell_type": "markdown",
      "metadata": {
        "id": "m-NVo2VOO1Tg"
      },
      "source": [
        "新聞中提到美國、澳洲、英國都已經在推動程式設計教育，並且最早從5歲就開始接觸課程，以這樣看來台灣對於程式設計教育的概念尚未普及，最近這幾年才認真提倡程式設計的課程普及。以我是一個社會心理學系的學生來說，在高中時就曾接觸過程式設計相關的課程，但那時並沒有很瞭解為何要學習這項專業科目，直到大學更深入學習程式設計後，才知道程式設計現在已經普及化，擁有這項技能對於未來找工作會更有利，並且視為一項常識。"
      ]
    },
    {
      "cell_type": "code",
      "metadata": {
        "id": "NMB2s0rSOVt6"
      },
      "source": [
        ""
      ],
      "execution_count": null,
      "outputs": []
    }
  ]
}