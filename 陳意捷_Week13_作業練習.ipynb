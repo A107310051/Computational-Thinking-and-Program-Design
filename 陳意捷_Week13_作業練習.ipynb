{
  "nbformat": 4,
  "nbformat_minor": 0,
  "metadata": {
    "kernelspec": {
      "display_name": "Python 3",
      "language": "python",
      "name": "python3"
    },
    "language_info": {
      "codemirror_mode": {
        "name": "ipython",
        "version": 3
      },
      "file_extension": ".py",
      "mimetype": "text/x-python",
      "name": "python",
      "nbconvert_exporter": "python",
      "pygments_lexer": "ipython3",
      "version": "3.8.5"
    },
    "colab": {
      "name": "陳意捷-Week13-作業練習.ipynb",
      "provenance": [],
      "include_colab_link": true
    }
  },
  "cells": [
    {
      "cell_type": "markdown",
      "metadata": {
        "id": "view-in-github",
        "colab_type": "text"
      },
      "source": [
        "<a href=\"https://colab.research.google.com/github/A107310051/Computational-Thinking-and-Program-Design/blob/main/%E9%99%B3%E6%84%8F%E6%8D%B7_Week13_%E4%BD%9C%E6%A5%AD%E7%B7%B4%E7%BF%92.ipynb\" target=\"_parent\"><img src=\"https://colab.research.google.com/assets/colab-badge.svg\" alt=\"Open In Colab\"/></a>"
      ]
    },
    {
      "cell_type": "code",
      "metadata": {
        "colab": {
          "base_uri": "https://localhost:8080/"
        },
        "id": "fgZ0Ra2r2StY",
        "outputId": "54b9cc34-451a-47ae-f208-07d39b5fb930"
      },
      "source": [
        "weight = input(\"give me weight\")\n",
        "weight = float(weight)\n",
        "\n",
        "if weight <= 5:\n",
        "  print(\"pay 50\")\n",
        "elif weight <= 10:\n",
        "  print(\"pay 70\")\n",
        "elif weight <= 15:\n",
        "  print(\"pay 90\")\n",
        "elif weight <= 20:\n",
        "  print(\"pay 110\")\n",
        "else:\n",
        "  print(\"cannot sent\")\n"
      ],
      "execution_count": 1,
      "outputs": [
        {
          "output_type": "stream",
          "text": [
            "give me weight13\n",
            "pay 90\n"
          ],
          "name": "stdout"
        }
      ]
    },
    {
      "cell_type": "markdown",
      "metadata": {
        "id": "R0kUyKhRpIl8"
      },
      "source": [
        "**隨堂練習1： BMI 計算**\n",
        "\n",
        "請寫一個程式讓使用者輸入身高與體重，顯示BMI 值與肥胖程度。 BMI 等於體重（KG）除以身高（M）的平方，而BMI 與肥胖分類標準如下：\n",
        "\n",
        "若BMI 值小於18，則顯示「體重過輕」，否則若BMI 值小於24，則顯示「體重正常」，若BMI 值小於27，則顯示「體重過重」，否則顯示「體重肥胖」。"
      ]
    },
    {
      "cell_type": "code",
      "metadata": {
        "colab": {
          "base_uri": "https://localhost:8080/"
        },
        "id": "bogIV8vWpImU",
        "outputId": "eb3a18cb-f6fe-4c5e-ac9a-e6bb06a59062"
      },
      "source": [
        "w = float(input(\"請輸入體重(KG)?\"))\n",
        "h = float(input(\"請輸入身高(M)?\"))\n",
        "bmi = w/(h*h)\n",
        "print(\"BMI為\",bmi)\n",
        "if bmi < 18:\n",
        "  print(\"體重過輕\")\n",
        "elif bmi < 24:\n",
        "  print(\"體重正常\")\n",
        "elif bmi < 27:\n",
        "  print(\"體重過重\")\n",
        "else:\n",
        "  print(\"體重肥胖\")"
      ],
      "execution_count": 2,
      "outputs": [
        {
          "output_type": "stream",
          "text": [
            "請輸入體重(KG)?20\n",
            "請輸入身高(M)?120\n",
            "BMI為 0.001388888888888889\n",
            "體重過輕\n"
          ],
          "name": "stdout"
        }
      ]
    },
    {
      "cell_type": "code",
      "metadata": {
        "colab": {
          "base_uri": "https://localhost:8080/"
        },
        "id": "RiPY_a6E7JWJ",
        "outputId": "54a0d30c-1f2d-484e-a618-ad8e78acc1c0"
      },
      "source": [
        "pin_number = 83\n",
        "n = input(\"guess a number between 1 and 100\")\n",
        "n = int(n)\n",
        "\n",
        "if n == pin_number:\n",
        "  print(\"guess right!\")\n",
        "else:\n",
        "  if n > pin_number:\n",
        "    print(\"guess lower!\")\n",
        "  else:\n",
        "    print(\"guess higher!\")"
      ],
      "execution_count": 5,
      "outputs": [
        {
          "output_type": "stream",
          "text": [
            "guess a number between 1 and 10052\n",
            "guess higher!\n"
          ],
          "name": "stdout"
        }
      ]
    },
    {
      "cell_type": "markdown",
      "metadata": {
        "id": "-bU5S5yupImV"
      },
      "source": [
        "**隨堂練習2： 三一律(單向選擇、雙向與巢狀選擇、多向選擇)**\n",
        "\n",
        "請輸入一個數，然後判斷這個數是正數、是負數或者是零。"
      ]
    },
    {
      "cell_type": "code",
      "metadata": {
        "colab": {
          "base_uri": "https://localhost:8080/"
        },
        "id": "vXLFIAfZpImW",
        "outputId": "f98c9dd8-7baf-4ffd-e6fb-6d43ff16b22b"
      },
      "source": [
        "num = int(input(\"pick a number:\"))\n",
        "if num > 0:\n",
        "  print(\"your number is positive\")\n",
        "if num < 0:\n",
        "  print(\"your number is negative\")\n",
        "if num == 0:\n",
        "  print(\"your number is zero.\")\n",
        "print(\"finish\")"
      ],
      "execution_count": 9,
      "outputs": [
        {
          "output_type": "stream",
          "text": [
            "pick a number:0\n",
            "your number is zero.\n",
            "finish\n"
          ],
          "name": "stdout"
        }
      ]
    },
    {
      "cell_type": "markdown",
      "metadata": {
        "id": "61LB9LUCpImW"
      },
      "source": [
        "**練習5   體溫與發燒**\n",
        "\n",
        "設計程式根據體溫判斷是否發燒，由使用者輸入體溫，程式判斷是否發燒，假設體溫小於36度，顯示「體溫過低」，體溫大於等於36度小於38度，顯示「體溫正常」，否則若體溫大於等於38度小於39度，顯示「體溫有點燒」，否則體溫大於等於39度，顯示「體溫很燒」。\n",
        "\n",
        "輸入體溫「36.5」，輸出為「體溫正常」。\n",
        "\n",
        "～程式執行結果如下。\n",
        "\n",
        "請輸入體溫？36.5\n",
        "\n",
        "體溫正常"
      ]
    },
    {
      "cell_type": "code",
      "metadata": {
        "id": "KHdhbkxypImX"
      },
      "source": [
        ""
      ],
      "execution_count": null,
      "outputs": []
    },
    {
      "cell_type": "markdown",
      "metadata": {
        "id": "4r1V_Y09pImX"
      },
      "source": [
        "**練習6  閏年判斷**\n",
        "\n",
        "設計程式允許輸入西元幾年，請求出該年是否是閏年，閏年表示該年多一天，若為4的倍數稱做閏年，但若為100的倍數就不為閏年，且若為400倍數又是閏年。(四年一潤、百年不潤、四百年再潤)\n",
        "\n",
        "輸入年份「2012」，輸出為「2012是閏年」。\n",
        "\n",
        "～程式執行結果如下。\n",
        "\n",
        "請輸入年份？2012\n",
        "\n",
        "2012 是閏年"
      ]
    },
    {
      "cell_type": "code",
      "metadata": {
        "id": "wcJS4dgzpIme"
      },
      "source": [
        ""
      ],
      "execution_count": null,
      "outputs": []
    },
    {
      "cell_type": "markdown",
      "metadata": {
        "id": "oIlB8OqppIme"
      },
      "source": [
        "**練習12：計程車計費**\n",
        "\n",
        "某城市計程車計費3公里以內6元，超過3公里不足10公里、每公里1.8元，超過10公里則超過部分加收50%。此外停車等候每3分鐘收1元，請用Python寫出車費是多少。"
      ]
    },
    {
      "cell_type": "code",
      "metadata": {
        "id": "o3mtcpFfpImf"
      },
      "source": [
        ""
      ],
      "execution_count": null,
      "outputs": []
    },
    {
      "cell_type": "code",
      "metadata": {
        "id": "li_hupEzpImf"
      },
      "source": [
        ""
      ],
      "execution_count": null,
      "outputs": []
    }
  ]
}