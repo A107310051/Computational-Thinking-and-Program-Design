{
  "nbformat": 4,
  "nbformat_minor": 0,
  "metadata": {
    "colab": {
      "name": "陳意捷-Week11-課後作業.ipynb",
      "provenance": [],
      "collapsed_sections": [],
      "authorship_tag": "ABX9TyOtXda3Yg3uB5zGqtBu9Tk7",
      "include_colab_link": true
    },
    "kernelspec": {
      "name": "python3",
      "display_name": "Python 3"
    },
    "language_info": {
      "name": "python"
    }
  },
  "cells": [
    {
      "cell_type": "markdown",
      "metadata": {
        "id": "view-in-github",
        "colab_type": "text"
      },
      "source": [
        "<a href=\"https://colab.research.google.com/github/A107310051/Computational-Thinking-and-Program-Design/blob/main/%E9%99%B3%E6%84%8F%E6%8D%B7_Week11_%E8%AA%B2%E5%BE%8C%E4%BD%9C%E6%A5%AD.ipynb\" target=\"_parent\"><img src=\"https://colab.research.google.com/assets/colab-badge.svg\" alt=\"Open In Colab\"/></a>"
      ]
    },
    {
      "cell_type": "markdown",
      "metadata": {
        "id": "aHYrRhMxv2M2"
      },
      "source": [
        "報告題目：使用對話機器人進行約會配對。"
      ]
    },
    {
      "cell_type": "markdown",
      "metadata": {
        "id": "mjjNSB-Tvtaj"
      },
      "source": [
        "在現今的社會中，人們常忙碌於工作，忽略人與人之間的相處，社交活動也相對減少了，因此有些人會選擇透過網路交友、相親等方式尋找適合自己的另一半。我們的對話機器人結合相親及網路交友的概念，透過使用者提供的興趣愛好及擇偶條件，在眾多使用者中找尋最適合的配對人選。"
      ]
    },
    {
      "cell_type": "markdown",
      "metadata": {
        "id": "aW2av3_9wPdO"
      },
      "source": [
        "期末分組：\n",
        "社心三甲 張菱恩 A107310033\n",
        "\n",
        "社心三甲 陳意捷 A107310051\n",
        "\n",
        "社心三甲 廖偲嘉 A107310075\n",
        "\n",
        "行管四乙 藍雲 A106240272"
      ]
    }
  ]
}